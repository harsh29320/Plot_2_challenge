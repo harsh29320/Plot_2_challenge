{
 "cells": [
  {
   "cell_type": "markdown",
   "metadata": {},
   "source": [
    "**Second Plot: Box Plot for for showing Income vs Age**"
   ]
  },
  {
   "cell_type": "code",
   "execution_count": 2,
   "metadata": {
    "collapsed": true
   },
   "outputs": [],
   "source": [
    "import numpy as np\n",
    "import pandas as pd\n",
    "import matplotlib.pyplot as plt\n",
    "import seaborn as sns\n",
    "%matplotlib inline"
   ]
  },
  {
   "cell_type": "code",
   "execution_count": null,
   "metadata": {
    "collapsed": true
   },
   "outputs": [],
   "source": [
    "#Specifying column names\n",
    "column_names = [\"AAGE\",\"ACLSWKR\",\"ADTIND\",\"ADTOCC\",\"AHGA\",\"AHRSPAY\",\"AHSCOL\",\"AMARITL\",\"AMJIND\",\"AMJOCC\",\"ARACE\",\"AREORGN\",\"ASEX\",\"AUNMEM\",\"AUNTYPE\",\"AWKSTAT\",\"CAPGAIN\",\"CAPLOSS\",\"DIVVAL\",\"FILESTAT\",\"GRINREG\",\"GRINST\",\"HHDFMX\",\"HHDREL\",\"MARSUPWT\",\"MIGMTR1\",\"MIGMTR3\",\"MIGMTR4\",\"MIGSAME\",\"MIGSUN\",\"NOEMP\",\"PARENT\",\"PEFNTVTY\",\"PEMNTVTY\",\"PENATVTY\",\"PRCITSHP\",\"SEOTR\",\"VETQVA\",\"VETYN\",\"WKSWORK\",\"Year\",\"Income\"]"
   ]
  },
  {
   "cell_type": "code",
   "execution_count": 5,
   "metadata": {},
   "outputs": [],
   "source": [
    "# Reading data\n",
    "Income = pd.read_csv('census-income.data',header=None,names=column_names)"
   ]
  },
  {
   "cell_type": "code",
   "execution_count": 31,
   "metadata": {},
   "outputs": [
    {
     "data": {
      "text/plain": [
       "(array([0, 1]), <a list of 2 Text yticklabel objects>)"
      ]
     },
     "execution_count": 31,
     "metadata": {},
     "output_type": "execute_result"
    },
    {
     "data": {
      "image/png": "[encoded data removed]",
      "text/plain": [
       "<matplotlib.figure.Figure at 0x8f051be278>"
      ]
     },
     "metadata": {},
     "output_type": "display_data"
    }
   ],
   "source": [
    "# Plotting a box plot for Ages based on Income lower or higher than 50,000\n",
    "\n",
    "plt.figure(figsize=(18,6))\n",
    "plt.title('Boxplot for Income vs Age',fontsize = 20)\n",
    "sns.boxplot(x=\"AAGE\", y=\"Income\", data=Income,palette='rainbow',orient='h')\n",
    "plt.xlabel(\"Age in years\",fontsize = 16 )\n",
    "plt.ylabel(\"Income ($)\",fontsize = 16)\n",
    "plt.xticks(fontsize = 14)\n",
    "plt.yticks(fontsize = 14)"
   ]
  },
  {
   "cell_type": "markdown",
   "metadata": {},
   "source": [
    "**Results**\n",
    "1. The median age for people with income lower and higher than 50,000 was about 32 years and 45 years respectively.\n",
    "2. The spread of age group for people with higher income was between 17 to 75.\n",
    "3. There were several outliers with older people having high income."
   ]
  },
  {
   "cell_type": "markdown",
   "metadata": {},
   "source": [
    "**Conclusion**\n",
    "In general as people get older their Income gets higher."
   ]
  },
  {
   "cell_type": "code",
   "execution_count": null,
   "metadata": {
    "collapsed": true
   },
   "outputs": [],
   "source": []
  }
 ],
 "metadata": {
  "kernelspec": {
   "display_name": "Python 3",
   "language": "python",
   "name": "python3"
  },
  "language_info": {
   "codemirror_mode": {
    "name": "ipython",
    "version": 3
   },
   "file_extension": ".py",
   "mimetype": "text/x-python",
   "name": "python",
   "nbconvert_exporter": "python",
   "pygments_lexer": "ipython3",
   "version": "3.6.2"
  }
 },
 "nbformat": 4,
 "nbformat_minor": 2
}
